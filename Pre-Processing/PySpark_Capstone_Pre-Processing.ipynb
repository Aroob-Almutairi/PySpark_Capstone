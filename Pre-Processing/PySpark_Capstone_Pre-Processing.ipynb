{
 "cells": [
  {
   "cell_type": "markdown",
   "id": "c0dd14ba",
   "metadata": {},
   "source": [
    "# BigData Capstone\n",
    "\n",
    "## Group: U_Data\n",
    "\n",
    "    Members:\n",
    "    \n",
    "    Aroob Almutairi \n",
    "    \n",
    "    Abdulrahman Alosaimi\n",
    "    \n",
    "    Duaa Al saad \n",
    "    \n",
    "    Fatimah Alateeq\n",
    "    \n",
    "    Ghaliah mohammedhussein\n"
   ]
  },
  {
   "cell_type": "markdown",
   "id": "6460fbba",
   "metadata": {},
   "source": [
    "## Data describtion\n",
    "- Convert U.S. to US to avoid periods.\n",
    "- Convert Unknown to \"?\"\n",
    "\n",
    "Data Set Information:\n",
    "\n",
    "Extraction was done by Barry Becker from the 1994 Census database. A set of reasonably clean records was extracted using the following conditions: ((AAGE>16) && (AGI>100) && (AFNLWGT>1)&& (HRSWK>0))\n",
    "\n",
    "Prediction task is to determine whether a person makes over 50K a year.\n",
    "\n",
    "- age: continuous.\n",
    "- workclass: Private, Self-emp-not-inc, Self-emp-inc, Federal-gov, Local-gov, State-gov, Without-pay, Never-worked.\n",
    "- fnlwgt(final weight): The number of people the census takers believe that observation represents, continuous.\n",
    "- education: Bachelors, Some-college, 11th, HS-grad, Prof-school, Assoc-acdm, Assoc-voc, 9th, 7th-8th, 12th, Masters, 1st-4th, 10th, Doctorate, 5th-6th, Preschool.\n",
    "- education-num: continuous.\n",
    "- marital-status: Married-civ-spouse, Divorced, Never-married, Separated, Widowed, Married-spouse-absent, Married-AF-spouse.\n",
    "- occupation: Tech-support, Craft-repair, Other-service, Sales, Exec-managerial, Prof-specialty, Handlers-cleaners, Machine-op-inspct, Adm-clerical, Farming-fishing, Transport-moving, Priv-house-serv, Protective-serv, Armed-Forces.\n",
    "- relationship: Wife, Own-child, Husband, Not-in-family, Other-relative, Unmarried.\n",
    "- race: White, Asian-Pac-Islander, Amer-Indian-Eskimo, Other, Black.\n",
    "- sex: Female, Male.\n",
    "- capital-gain: continuous.\n",
    "- capital-loss: continuous.\n",
    "- hours-per-week: continuous.\n",
    "- native-country: United-States, Cambodia, England, Puerto-Rico, Canada, Germany, Outlying-US(Guam-USVI-etc), India, Japan, Greece, South, China, Cuba, Iran, Honduras, Philippines, Italy, Poland, Jamaica, Vietnam, Mexico, Portugal, Ireland, France, Dominican-Republic, Laos, Ecuador, Taiwan, Haiti, Columbia, Hungary, Guatemala, Nicaragua, Scotland, Thailand, Yugoslavia, El-Salvador, Trinadad&Tobago, Peru, Hong, Holand-Netherlands.\n",
    "- >50K, <=50K\n",
    "\n",
    "- references:\n",
    "- https://archive.ics.uci.edu/ml/datasets/adult"
   ]
  },
  {
   "cell_type": "code",
   "execution_count": 1,
   "id": "65373b37",
   "metadata": {},
   "outputs": [
    {
     "data": {
      "text/html": [
       "<style>.container { width:95% !important; }</style>"
      ],
      "text/plain": [
       "<IPython.core.display.HTML object>"
      ]
     },
     "metadata": {},
     "output_type": "display_data"
    }
   ],
   "source": [
    "from IPython.display import display, HTML\n",
    "display(HTML(\"<style>.container { width:95% !important; }</style>\"))"
   ]
  },
  {
   "cell_type": "code",
   "execution_count": 2,
   "id": "4b941f15",
   "metadata": {},
   "outputs": [],
   "source": [
    "from pyspark.sql import SparkSession\n",
    "from pyspark.sql.functions import *\n",
    "#lets import our usual suspects\n",
    "import matplotlib.pyplot as plt\n",
    "import seaborn as sns\n",
    "import pandas as pd\n",
    "import numpy as np\n",
    "\n",
    "#pyspark related imports\n",
    "import pyspark\n",
    "from pyspark.sql.functions import col, isnan, when, count\n",
    "from pyspark.ml.feature import Imputer, VectorAssembler, StringIndexer\n",
    "from pyspark.sql.functions import *\n",
    "from pyspark.sql import functions as f\n",
    "from pyspark.ml.regression import RandomForestRegressor, DecisionTreeRegressor, GBTRegressor, LinearRegression\n",
    "from pyspark.ml.evaluation import RegressionEvaluator\n",
    "\n",
    "from pyspark.ml.classification import DecisionTreeClassifier, RandomForestClassifier, LogisticRegression, GBTClassifier\n",
    "from pyspark.ml.evaluation import MulticlassClassificationEvaluator\n",
    "\n",
    "\n",
    "from pyspark.ml.tuning import CrossValidator, ParamGridBuilder, CrossValidatorModel\n",
    "from pyspark.ml import Pipeline"
   ]
  },
  {
   "cell_type": "code",
   "execution_count": 3,
   "id": "d35e07fe",
   "metadata": {},
   "outputs": [],
   "source": [
    "spark = pyspark.sql.SparkSession.builder.config(\"spark.executor.memory\", \"8g\").config(\"spark.driver.memory\", \"8g\").getOrCreate()"
   ]
  },
  {
   "cell_type": "markdown",
   "id": "57cfb6fa",
   "metadata": {},
   "source": [
    "## Preprocessing\n",
    "\n",
    "1. Replacing the '?' in all the columns with Not-specified\n",
    "2. Make the values for education consistant\n",
    "3. Change the values for salary to be 0 if <=50k, and 1 if >50k\n",
    "4. Summing the values for the fnlwgt column, and getting the percentage of fnlwgt\n",
    "5. The diffrence of  capital gain and loss\n",
    "6. Finding if someone is workholic which is 1, or no which is 0  "
   ]
  },
  {
   "cell_type": "markdown",
   "id": "5b26907d",
   "metadata": {},
   "source": [
    "## PySpark"
   ]
  },
  {
   "cell_type": "code",
   "execution_count": 4,
   "id": "24e35c5f",
   "metadata": {},
   "outputs": [],
   "source": [
    "# Load the dataset.\n",
    "dfs = spark.read.csv('adult1m.csv',inferSchema=True,header=False)"
   ]
  },
  {
   "cell_type": "code",
   "execution_count": 5,
   "id": "3aeb7261",
   "metadata": {},
   "outputs": [],
   "source": [
    "# Rename columns\n",
    "columns_names=['age','workclass','fnlwgt','education','education_num','marital_status','occupation','relationship','race','gender','capital_gain','capital_loss','hours_per_week','native_country','salary']\n",
    "i=0\n",
    "for colm in columns_names:\n",
    "    dfs=dfs.withColumnRenamed('_c{}'.format(i),colm)\n",
    "    i=i+1"
   ]
  },
  {
   "cell_type": "code",
   "execution_count": 6,
   "id": "7728c8ff",
   "metadata": {},
   "outputs": [
    {
     "name": "stdout",
     "output_type": "stream",
     "text": [
      "1000000 15\n",
      "root\n",
      " |-- age: integer (nullable = true)\n",
      " |-- workclass: string (nullable = true)\n",
      " |-- fnlwgt: integer (nullable = true)\n",
      " |-- education: string (nullable = true)\n",
      " |-- education_num: integer (nullable = true)\n",
      " |-- marital_status: string (nullable = true)\n",
      " |-- occupation: string (nullable = true)\n",
      " |-- relationship: string (nullable = true)\n",
      " |-- race: string (nullable = true)\n",
      " |-- gender: string (nullable = true)\n",
      " |-- capital_gain: integer (nullable = true)\n",
      " |-- capital_loss: integer (nullable = true)\n",
      " |-- hours_per_week: integer (nullable = true)\n",
      " |-- native_country: string (nullable = true)\n",
      " |-- salary: string (nullable = true)\n",
      "\n"
     ]
    }
   ],
   "source": [
    "# The data Shape\n",
    "print(dfs.count(), len(dfs.columns))\n",
    "dfs.printSchema()"
   ]
  },
  {
   "cell_type": "code",
   "execution_count": 7,
   "id": "cb423e72",
   "metadata": {},
   "outputs": [
    {
     "name": "stdout",
     "output_type": "stream",
     "text": [
      "+---+----------------+------+---------+-------------+------------------+-----------------+-------------+-----+------+------------+------------+--------------+--------------+------+\n",
      "|age|       workclass|fnlwgt|education|education_num|    marital_status|       occupation| relationship| race|gender|capital_gain|capital_loss|hours_per_week|native_country|salary|\n",
      "+---+----------------+------+---------+-------------+------------------+-----------------+-------------+-----+------+------------+------------+--------------+--------------+------+\n",
      "| 39|       State-gov| 77516|Bachelors|           13|     Never-married|     Adm-clerical|Not-in-family|White|  Male|        2174|           0|            40| United-States| <=50K|\n",
      "| 50|Self-emp-not-inc| 83311|Bachelors|           13|Married-civ-spouse|  Exec-managerial|      Husband|White|  Male|           0|           0|            13| United-States| <=50K|\n",
      "| 38|         Private|215646|  HS-grad|            9|          Divorced|Handlers-cleaners|Not-in-family|White|  Male|           0|           0|            40| United-States| <=50K|\n",
      "| 53|         Private|234721|     11th|            7|Married-civ-spouse|Handlers-cleaners|      Husband|Black|  Male|           0|           0|            40| United-States| <=50K|\n",
      "| 28|         Private|338409|Bachelors|           13|Married-civ-spouse|   Prof-specialty|         Wife|Black|Female|           0|           0|            40|          Cuba| <=50K|\n",
      "+---+----------------+------+---------+-------------+------------------+-----------------+-------------+-----+------+------------+------------+--------------+--------------+------+\n",
      "only showing top 5 rows\n",
      "\n"
     ]
    }
   ],
   "source": [
    "dfs.show(5)"
   ]
  },
  {
   "cell_type": "code",
   "execution_count": 8,
   "id": "5fd7fab7",
   "metadata": {},
   "outputs": [
    {
     "name": "stderr",
     "output_type": "stream",
     "text": [
      "C:\\Users\\rooob\\anaconda3\\lib\\site-packages\\pyspark\\sql\\dataframe.py:229: FutureWarning: Deprecated in 2.0, use createOrReplaceTempView instead.\n",
      "  warnings.warn(\"Deprecated in 2.0, use createOrReplaceTempView instead.\", FutureWarning)\n"
     ]
    }
   ],
   "source": [
    "# To EDA in SQL\n",
    "dfs.registerTempTable('dfs')"
   ]
  },
  {
   "cell_type": "code",
   "execution_count": 9,
   "id": "3010033f",
   "metadata": {},
   "outputs": [
    {
     "name": "stdout",
     "output_type": "stream",
     "text": [
      "+---+----------+\n",
      "|age|count(age)|\n",
      "+---+----------+\n",
      "| 37|     14347|\n",
      "| 35|     14257|\n",
      "| 31|     14250|\n",
      "| 30|     14241|\n",
      "| 24|     14224|\n",
      "| 29|     14215|\n",
      "| 28|     14205|\n",
      "| 25|     14188|\n",
      "| 36|     14182|\n",
      "| 41|     14172|\n",
      "| 44|     14145|\n",
      "| 45|     14103|\n",
      "| 39|     14091|\n",
      "| 43|     14080|\n",
      "| 34|     14069|\n",
      "| 22|     14052|\n",
      "| 33|     14045|\n",
      "| 20|     14042|\n",
      "| 23|     14032|\n",
      "| 38|     14031|\n",
      "| 47|     14020|\n",
      "| 26|     14018|\n",
      "| 42|     13990|\n",
      "| 32|     13971|\n",
      "| 40|     13940|\n",
      "| 53|     13917|\n",
      "| 48|     13888|\n",
      "| 27|     13883|\n",
      "| 18|     13854|\n",
      "| 21|     13848|\n",
      "| 46|     13802|\n",
      "| 49|     13793|\n",
      "| 50|     13789|\n",
      "| 51|     13782|\n",
      "| 17|     13758|\n",
      "| 19|     13756|\n",
      "| 58|     13725|\n",
      "| 57|     13719|\n",
      "| 55|     13703|\n",
      "| 54|     13671|\n",
      "| 52|     13636|\n",
      "| 66|     13619|\n",
      "| 56|     13566|\n",
      "| 65|     13564|\n",
      "| 59|     13518|\n",
      "| 70|     13511|\n",
      "| 64|     13490|\n",
      "| 67|     13460|\n",
      "| 63|     13438|\n",
      "| 78|     13411|\n",
      "+---+----------+\n",
      "only showing top 50 rows\n",
      "\n",
      "+----------------+----------------+\n",
      "|       workclass|count(workclass)|\n",
      "+----------------+----------------+\n",
      "|         Private|          130005|\n",
      "|Self-emp-not-inc|          110521|\n",
      "|               ?|          109731|\n",
      "|       Local-gov|          109507|\n",
      "|       State-gov|          108856|\n",
      "|     Federal-gov|          108441|\n",
      "|    Self-emp-inc|          108217|\n",
      "|     Without-pay|          107699|\n",
      "|    Never-worked|          107023|\n",
      "+----------------+----------------+\n",
      "\n",
      "+------+-------------+\n",
      "|fnlwgt|count(fnlwgt)|\n",
      "+------+-------------+\n",
      "|125461|           76|\n",
      "| 63814|           75|\n",
      "|108435|           73|\n",
      "|174788|           72|\n",
      "|159549|           72|\n",
      "| 80574|           71|\n",
      "|295282|           71|\n",
      "|306467|           71|\n",
      "|194682|           70|\n",
      "|285263|           70|\n",
      "|112929|           70|\n",
      "| 29174|           70|\n",
      "|604506|           70|\n",
      "|168906|           70|\n",
      "|291192|           69|\n",
      "|153471|           69|\n",
      "|162228|           69|\n",
      "|112383|           69|\n",
      "|182687|           69|\n",
      "| 30219|           69|\n",
      "|185407|           69|\n",
      "|314182|           69|\n",
      "|168221|           69|\n",
      "|192965|           69|\n",
      "| 81548|           68|\n",
      "|109413|           68|\n",
      "|129912|           68|\n",
      "| 44363|           68|\n",
      "| 37482|           68|\n",
      "|168981|           68|\n",
      "|171242|           68|\n",
      "|193882|           68|\n",
      "| 53260|           68|\n",
      "|101020|           68|\n",
      "|317360|           68|\n",
      "|193920|           68|\n",
      "|205504|           68|\n",
      "|262684|           68|\n",
      "|138514|           68|\n",
      "|175674|           68|\n",
      "|171615|           67|\n",
      "|148429|           67|\n",
      "|219262|           67|\n",
      "|119891|           67|\n",
      "|165694|           67|\n",
      "|150084|           67|\n",
      "|171419|           67|\n",
      "|101017|           67|\n",
      "| 34998|           67|\n",
      "|225780|           67|\n",
      "+------+-------------+\n",
      "only showing top 50 rows\n",
      "\n",
      "+------------+----------------+\n",
      "|   education|count(education)|\n",
      "+------------+----------------+\n",
      "|     HS-grad|           71205|\n",
      "|Some-college|           67606|\n",
      "|   Bachelors|           65953|\n",
      "|        11th|           61898|\n",
      "|   Assoc-voc|           61762|\n",
      "|     Masters|           61648|\n",
      "|  Assoc-acdm|           61486|\n",
      "|        10th|           61443|\n",
      "|     7th-8th|           61218|\n",
      "|   Doctorate|           61039|\n",
      "|     5th-6th|           60959|\n",
      "|        12th|           60908|\n",
      "|         9th|           60879|\n",
      "|     1st-4th|           60767|\n",
      "| Prof-school|           60711|\n",
      "|   Preschool|           60518|\n",
      "+------------+----------------+\n",
      "\n",
      "+-------------+--------------------+\n",
      "|education_num|count(education_num)|\n",
      "+-------------+--------------------+\n",
      "|            9|               70891|\n",
      "|           10|               67427|\n",
      "|           13|               65664|\n",
      "|           14|               62508|\n",
      "|           11|               61947|\n",
      "|           12|               61728|\n",
      "|            7|               61579|\n",
      "|            6|               61502|\n",
      "|           15|               61366|\n",
      "|            5|               61240|\n",
      "|            8|               61135|\n",
      "|            4|               61082|\n",
      "|            3|               60953|\n",
      "|           16|               60951|\n",
      "|            2|               60079|\n",
      "|            1|               59948|\n",
      "+-------------+--------------------+\n",
      "\n",
      "+--------------------+---------------------+\n",
      "|      marital_status|count(marital_status)|\n",
      "+--------------------+---------------------+\n",
      "|  Married-civ-spouse|               153361|\n",
      "|       Never-married|               147892|\n",
      "|            Divorced|               143001|\n",
      "|             Widowed|               139482|\n",
      "|           Separated|               139429|\n",
      "|   Married-AF-spouse|               138486|\n",
      "|Married-spouse-ab...|               138349|\n",
      "+--------------------+---------------------+\n",
      "\n",
      "+-----------------+-----------------+\n",
      "|       occupation|count(occupation)|\n",
      "+-----------------+-----------------+\n",
      "|     Craft-repair|            68950|\n",
      "|  Exec-managerial|            68780|\n",
      "|   Prof-specialty|            68411|\n",
      "|    Other-service|            68233|\n",
      "|            Sales|            68173|\n",
      "|     Adm-clerical|            67960|\n",
      "|Machine-op-inspct|            66402|\n",
      "|                ?|            66254|\n",
      "|Handlers-cleaners|            66120|\n",
      "| Transport-moving|            66032|\n",
      "|     Tech-support|            65487|\n",
      "|  Farming-fishing|            65323|\n",
      "|  Protective-serv|            64940|\n",
      "|  Priv-house-serv|            64523|\n",
      "|     Armed-Forces|            64412|\n",
      "+-----------------+-----------------+\n",
      "\n",
      "+--------------+-------------------+\n",
      "|  relationship|count(relationship)|\n",
      "+--------------+-------------------+\n",
      "|       Husband|             173999|\n",
      "| Not-in-family|             170334|\n",
      "|     Own-child|             166055|\n",
      "|     Unmarried|             164685|\n",
      "|          Wife|             162599|\n",
      "|Other-relative|             162328|\n",
      "+--------------+-------------------+\n",
      "\n",
      "+------------------+-----------+\n",
      "|              race|count(race)|\n",
      "+------------------+-----------+\n",
      "|             White|     221239|\n",
      "|             Black|     196853|\n",
      "|Asian-Pac-Islander|     194364|\n",
      "|Amer-Indian-Eskimo|     194177|\n",
      "|             Other|     193367|\n",
      "+------------------+-----------+\n",
      "\n",
      "+------+-------------+\n",
      "|gender|count(gender)|\n",
      "+------+-------------+\n",
      "|  Male|       505923|\n",
      "|Female|       494077|\n",
      "+------+-------------+\n",
      "\n",
      "+------------+-------------------+\n",
      "|capital_gain|count(capital_gain)|\n",
      "+------------+-------------------+\n",
      "|           0|              38028|\n",
      "|       15024|               8517|\n",
      "|        7298|               8436|\n",
      "|        3103|               8369|\n",
      "|        2174|               8331|\n",
      "|        7688|               8328|\n",
      "|        3411|               8325|\n",
      "|        2062|               8311|\n",
      "|        8614|               8299|\n",
      "|        3137|               8299|\n",
      "|        3325|               8294|\n",
      "|        7896|               8292|\n",
      "|        7443|               8285|\n",
      "|        2290|               8282|\n",
      "|        2036|               8281|\n",
      "|        5556|               8280|\n",
      "|       99999|               8273|\n",
      "|       15020|               8265|\n",
      "|        2202|               8262|\n",
      "|        2829|               8260|\n",
      "|        4101|               8259|\n",
      "|        6723|               8250|\n",
      "|        1506|               8248|\n",
      "|        4386|               8244|\n",
      "|        1455|               8235|\n",
      "|        2228|               8233|\n",
      "|        4416|               8225|\n",
      "|        2387|               8221|\n",
      "|        7978|               8221|\n",
      "|       22040|               8218|\n",
      "|       27828|               8217|\n",
      "|       15831|               8216|\n",
      "|       13550|               8212|\n",
      "|        5178|               8212|\n",
      "|        1055|               8208|\n",
      "|        3471|               8203|\n",
      "|        5721|               8202|\n",
      "|        2580|               8202|\n",
      "|        2354|               8202|\n",
      "|        2961|               8195|\n",
      "|        2977|               8189|\n",
      "|        6514|               8187|\n",
      "|        5455|               8185|\n",
      "|        3464|               8182|\n",
      "|       14084|               8177|\n",
      "|        5013|               8177|\n",
      "|        3887|               8176|\n",
      "|       11678|               8172|\n",
      "|        2050|               8168|\n",
      "|        6097|               8166|\n",
      "+------------+-------------------+\n",
      "only showing top 50 rows\n",
      "\n",
      "+------------+-------------------+\n",
      "|capital_loss|count(capital_loss)|\n",
      "+------------+-------------------+\n",
      "|           0|              41687|\n",
      "|        1887|              10794|\n",
      "|        2339|              10773|\n",
      "|        2824|              10746|\n",
      "|        1602|              10744|\n",
      "|        2231|              10738|\n",
      "|         880|              10731|\n",
      "|        1902|              10707|\n",
      "|        1648|              10698|\n",
      "|        1672|              10696|\n",
      "|        1485|              10695|\n",
      "|        1848|              10687|\n",
      "|        1825|              10684|\n",
      "|        2415|              10682|\n",
      "|        1977|              10674|\n",
      "|        1741|              10663|\n",
      "|        1726|              10660|\n",
      "|        2002|              10635|\n",
      "|        1974|              10629|\n",
      "|        2001|              10622|\n",
      "|         323|              10605|\n",
      "|        1340|              10605|\n",
      "|        4356|              10603|\n",
      "|        1755|              10603|\n",
      "|        1617|              10602|\n",
      "|        2754|              10595|\n",
      "|        1668|              10591|\n",
      "|        2205|              10590|\n",
      "|        1876|              10590|\n",
      "|        2042|              10590|\n",
      "|        2444|              10583|\n",
      "|        2149|              10582|\n",
      "|        1138|              10576|\n",
      "|        1092|              10576|\n",
      "|        2267|              10572|\n",
      "|        1816|              10568|\n",
      "|         653|              10568|\n",
      "|         155|              10566|\n",
      "|        1651|              10564|\n",
      "|        1564|              10562|\n",
      "|        2282|              10557|\n",
      "|        2238|              10557|\n",
      "|        1628|              10552|\n",
      "|        2467|              10549|\n",
      "|        2547|              10542|\n",
      "|        2258|              10537|\n",
      "|        2559|              10532|\n",
      "|        2080|              10521|\n",
      "|        1258|              10518|\n",
      "|        1721|              10517|\n",
      "+------------+-------------------+\n",
      "only showing top 50 rows\n",
      "\n"
     ]
    },
    {
     "name": "stdout",
     "output_type": "stream",
     "text": [
      "+--------------+---------------------+\n",
      "|hours_per_week|count(hours_per_week)|\n",
      "+--------------+---------------------+\n",
      "|            40|                25612|\n",
      "|            50|                13029|\n",
      "|            45|                12327|\n",
      "|            60|                11804|\n",
      "|            20|                11540|\n",
      "|            35|                11485|\n",
      "|            30|                11470|\n",
      "|            25|                10936|\n",
      "|            48|                10894|\n",
      "|            15|                10841|\n",
      "|            55|                10785|\n",
      "|            38|                10709|\n",
      "|            32|                10620|\n",
      "|            36|                10617|\n",
      "|            70|                10593|\n",
      "|             8|                10583|\n",
      "|            44|                10581|\n",
      "|            16|                10550|\n",
      "|            56|                10541|\n",
      "|             2|                10499|\n",
      "|            10|                10498|\n",
      "|            90|                10495|\n",
      "|            42|                10480|\n",
      "|            52|                10475|\n",
      "|            24|                10467|\n",
      "|            65|                10465|\n",
      "|            99|                10464|\n",
      "|            88|                10452|\n",
      "|            54|                10450|\n",
      "|            28|                10450|\n",
      "|            37|                10448|\n",
      "|            85|                10444|\n",
      "|            11|                10440|\n",
      "|            94|                10436|\n",
      "|            92|                10432|\n",
      "|            46|                10431|\n",
      "|            66|                10409|\n",
      "|            96|                10409|\n",
      "|            76|                10400|\n",
      "|            74|                10393|\n",
      "|            27|                10393|\n",
      "|             5|                10387|\n",
      "|            33|                10379|\n",
      "|            58|                10374|\n",
      "|             1|                10369|\n",
      "|             4|                10369|\n",
      "|            22|                10367|\n",
      "|            53|                10363|\n",
      "|            49|                10359|\n",
      "|             6|                10353|\n",
      "+--------------+---------------------+\n",
      "only showing top 50 rows\n",
      "\n",
      "+--------------------+---------------------+\n",
      "|      native_country|count(native_country)|\n",
      "+--------------------+---------------------+\n",
      "|       United-States|                51942|\n",
      "|              Mexico|                23801|\n",
      "|                   ?|                23591|\n",
      "|         El-Salvador|                23436|\n",
      "|  Dominican-Republic|                23397|\n",
      "|              Poland|                23381|\n",
      "|             Germany|                23322|\n",
      "|               China|                23312|\n",
      "|             Hungary|                23282|\n",
      "|Outlying-US(Guam-...|                23273|\n",
      "|                Peru|                23227|\n",
      "|         Philippines|                23220|\n",
      "|            Columbia|                23218|\n",
      "|               Italy|                23205|\n",
      "|               India|                23193|\n",
      "|                Cuba|                23186|\n",
      "|           Guatemala|                23186|\n",
      "|     Trinadad&Tobago|                23140|\n",
      "|               Japan|                23136|\n",
      "|              Taiwan|                23134|\n",
      "|               South|                23128|\n",
      "|           Nicaragua|                23121|\n",
      "|            Cambodia|                23117|\n",
      "|             England|                23114|\n",
      "|            Honduras|                23075|\n",
      "|              France|                23060|\n",
      "|             Vietnam|                23057|\n",
      "|            Thailand|                23046|\n",
      "|             Ecuador|                22983|\n",
      "|               Haiti|                22979|\n",
      "|          Yugoslavia|                22972|\n",
      "|                Iran|                22964|\n",
      "|             Ireland|                22943|\n",
      "|             Jamaica|                22922|\n",
      "|              Greece|                22908|\n",
      "|  Holand-Netherlands|                22905|\n",
      "|              Canada|                22905|\n",
      "|            Scotland|                22904|\n",
      "|         Puerto-Rico|                22900|\n",
      "|                Hong|                22882|\n",
      "|                Laos|                22788|\n",
      "|            Portugal|                22745|\n",
      "+--------------------+---------------------+\n",
      "\n",
      "+------+-------------+\n",
      "|salary|count(salary)|\n",
      "+------+-------------+\n",
      "| <=50K|       508522|\n",
      "|  >50K|       491478|\n",
      "+------+-------------+\n",
      "\n"
     ]
    }
   ],
   "source": [
    "# Value counts each column\n",
    "for i in dfs.columns:\n",
    "    dfs_result = spark.sql('SELECT `{}`, count(`{}`) FROM dfs group by 1 order by 2 desc'.format(i,i)) #first we select the subset of data\n",
    "    dfs_result.show(50)\n",
    "# No weird values\n",
    "# ? is the NaN values"
   ]
  },
  {
   "cell_type": "code",
   "execution_count": 10,
   "id": "36e13d98",
   "metadata": {},
   "outputs": [
    {
     "name": "stdout",
     "output_type": "stream",
     "text": [
      "+---+---------+------+---------+-------------+--------------+----------+------------+----+------+------------+------------+--------------+--------------+------+\n",
      "|age|workclass|fnlwgt|education|education_num|marital_status|occupation|relationship|race|gender|capital_gain|capital_loss|hours_per_week|native_country|salary|\n",
      "+---+---------+------+---------+-------------+--------------+----------+------------+----+------+------------+------------+--------------+--------------+------+\n",
      "|  0|        0|     0|        0|            0|             0|         0|           0|   0|     0|           0|           0|             0|             0|     0|\n",
      "+---+---------+------+---------+-------------+--------------+----------+------------+----+------+------------+------------+--------------+--------------+------+\n",
      "\n"
     ]
    }
   ],
   "source": [
    "dfs.select([count(when(isnan(c) | col(c).isNull(), c)).alias(c) for c in dfs.columns]).show()"
   ]
  },
  {
   "cell_type": "markdown",
   "id": "2681ff8a",
   "metadata": {},
   "source": [
    "### Replaceing ? for the workclass with Not-specified"
   ]
  },
  {
   "cell_type": "code",
   "execution_count": 11,
   "id": "bb4c31f8",
   "metadata": {},
   "outputs": [
    {
     "data": {
      "text/plain": [
       "[Row(workclass='Self-emp-not-inc'),\n",
       " Row(workclass='Local-gov'),\n",
       " Row(workclass='State-gov'),\n",
       " Row(workclass='Private'),\n",
       " Row(workclass='Without-pay'),\n",
       " Row(workclass='Federal-gov'),\n",
       " Row(workclass='Never-worked'),\n",
       " Row(workclass='?'),\n",
       " Row(workclass='Self-emp-inc')]"
      ]
     },
     "execution_count": 11,
     "metadata": {},
     "output_type": "execute_result"
    }
   ],
   "source": [
    "dfs.select('workclass').distinct().collect()"
   ]
  },
  {
   "cell_type": "code",
   "execution_count": 12,
   "id": "5e85e226",
   "metadata": {},
   "outputs": [
    {
     "data": {
      "text/plain": [
       "[Row(workclass='Self-emp-not-inc'),\n",
       " Row(workclass='Local-gov'),\n",
       " Row(workclass='State-gov'),\n",
       " Row(workclass='Not-specified'),\n",
       " Row(workclass='Private'),\n",
       " Row(workclass='Without-pay'),\n",
       " Row(workclass='Federal-gov'),\n",
       " Row(workclass='Never-worked'),\n",
       " Row(workclass='Self-emp-inc')]"
      ]
     },
     "execution_count": 12,
     "metadata": {},
     "output_type": "execute_result"
    }
   ],
   "source": [
    "dfs=dfs.withColumn('workclass', regexp_replace('workclass', \"\\\\?\", 'Not-specified'))\n",
    "dfs.select('workclass').distinct().collect()"
   ]
  },
  {
   "cell_type": "markdown",
   "id": "eb6beaa1",
   "metadata": {},
   "source": [
    "### Replaceing ? for the occupation with not specified"
   ]
  },
  {
   "cell_type": "code",
   "execution_count": 13,
   "id": "2c2d44f5",
   "metadata": {},
   "outputs": [
    {
     "data": {
      "text/plain": [
       "[Row(occupation='Sales'),\n",
       " Row(occupation='Exec-managerial'),\n",
       " Row(occupation='Prof-specialty'),\n",
       " Row(occupation='Handlers-cleaners'),\n",
       " Row(occupation='Farming-fishing'),\n",
       " Row(occupation='Craft-repair'),\n",
       " Row(occupation='Transport-moving'),\n",
       " Row(occupation='Priv-house-serv'),\n",
       " Row(occupation='Protective-serv'),\n",
       " Row(occupation='Other-service'),\n",
       " Row(occupation='Tech-support'),\n",
       " Row(occupation='Machine-op-inspct'),\n",
       " Row(occupation='Armed-Forces'),\n",
       " Row(occupation='?'),\n",
       " Row(occupation='Adm-clerical')]"
      ]
     },
     "execution_count": 13,
     "metadata": {},
     "output_type": "execute_result"
    }
   ],
   "source": [
    "dfs.select('occupation').distinct().collect()"
   ]
  },
  {
   "cell_type": "code",
   "execution_count": 14,
   "id": "fa817885",
   "metadata": {},
   "outputs": [
    {
     "data": {
      "text/plain": [
       "[Row(occupation='Sales'),\n",
       " Row(occupation='Exec-managerial'),\n",
       " Row(occupation='Prof-specialty'),\n",
       " Row(occupation='Handlers-cleaners'),\n",
       " Row(occupation='Farming-fishing'),\n",
       " Row(occupation='Not-specified'),\n",
       " Row(occupation='Craft-repair'),\n",
       " Row(occupation='Transport-moving'),\n",
       " Row(occupation='Priv-house-serv'),\n",
       " Row(occupation='Protective-serv'),\n",
       " Row(occupation='Other-service'),\n",
       " Row(occupation='Tech-support'),\n",
       " Row(occupation='Machine-op-inspct'),\n",
       " Row(occupation='Armed-Forces'),\n",
       " Row(occupation='Adm-clerical')]"
      ]
     },
     "execution_count": 14,
     "metadata": {},
     "output_type": "execute_result"
    }
   ],
   "source": [
    "dfs=dfs.withColumn('occupation', regexp_replace('occupation', \"\\\\?\", 'Not-specified'))\n",
    "dfs.select('occupation').distinct().collect()"
   ]
  },
  {
   "cell_type": "markdown",
   "id": "2e6ba374",
   "metadata": {},
   "source": [
    "### Replaceing ? for the native_country with not specified"
   ]
  },
  {
   "cell_type": "code",
   "execution_count": 15,
   "id": "7fdcae8a",
   "metadata": {},
   "outputs": [
    {
     "data": {
      "text/plain": [
       "[Row(native_country='Philippines'),\n",
       " Row(native_country='Germany'),\n",
       " Row(native_country='Cambodia'),\n",
       " Row(native_country='France'),\n",
       " Row(native_country='Greece'),\n",
       " Row(native_country='Taiwan'),\n",
       " Row(native_country='Ecuador'),\n",
       " Row(native_country='Nicaragua'),\n",
       " Row(native_country='Hong'),\n",
       " Row(native_country='Peru'),\n",
       " Row(native_country='India'),\n",
       " Row(native_country='China'),\n",
       " Row(native_country='Italy'),\n",
       " Row(native_country='Holand-Netherlands'),\n",
       " Row(native_country='Cuba'),\n",
       " Row(native_country='South'),\n",
       " Row(native_country='Iran'),\n",
       " Row(native_country='Ireland'),\n",
       " Row(native_country='Thailand'),\n",
       " Row(native_country='Laos'),\n",
       " Row(native_country='El-Salvador'),\n",
       " Row(native_country='Mexico'),\n",
       " Row(native_country='Guatemala'),\n",
       " Row(native_country='Honduras'),\n",
       " Row(native_country='Yugoslavia'),\n",
       " Row(native_country='Puerto-Rico'),\n",
       " Row(native_country='Jamaica'),\n",
       " Row(native_country='Canada'),\n",
       " Row(native_country='United-States'),\n",
       " Row(native_country='Dominican-Republic'),\n",
       " Row(native_country='Outlying-US(Guam-USVI-etc)'),\n",
       " Row(native_country='Japan'),\n",
       " Row(native_country='England'),\n",
       " Row(native_country='Haiti'),\n",
       " Row(native_country='Poland'),\n",
       " Row(native_country='Portugal'),\n",
       " Row(native_country='?'),\n",
       " Row(native_country='Columbia'),\n",
       " Row(native_country='Scotland'),\n",
       " Row(native_country='Hungary'),\n",
       " Row(native_country='Vietnam'),\n",
       " Row(native_country='Trinadad&Tobago')]"
      ]
     },
     "execution_count": 15,
     "metadata": {},
     "output_type": "execute_result"
    }
   ],
   "source": [
    "dfs.select('native_country').distinct().collect()"
   ]
  },
  {
   "cell_type": "code",
   "execution_count": 16,
   "id": "66b1a63e",
   "metadata": {},
   "outputs": [
    {
     "data": {
      "text/plain": [
       "[Row(native_country='Philippines'),\n",
       " Row(native_country='Germany'),\n",
       " Row(native_country='Cambodia'),\n",
       " Row(native_country='France'),\n",
       " Row(native_country='Greece'),\n",
       " Row(native_country='Taiwan'),\n",
       " Row(native_country='Ecuador'),\n",
       " Row(native_country='Nicaragua'),\n",
       " Row(native_country='Hong'),\n",
       " Row(native_country='Peru'),\n",
       " Row(native_country='India'),\n",
       " Row(native_country='China'),\n",
       " Row(native_country='Not-specified'),\n",
       " Row(native_country='Italy'),\n",
       " Row(native_country='Holand-Netherlands'),\n",
       " Row(native_country='Cuba'),\n",
       " Row(native_country='South'),\n",
       " Row(native_country='Iran'),\n",
       " Row(native_country='Ireland'),\n",
       " Row(native_country='Thailand'),\n",
       " Row(native_country='Laos'),\n",
       " Row(native_country='El-Salvador'),\n",
       " Row(native_country='Mexico'),\n",
       " Row(native_country='Guatemala'),\n",
       " Row(native_country='Honduras'),\n",
       " Row(native_country='Yugoslavia'),\n",
       " Row(native_country='Puerto-Rico'),\n",
       " Row(native_country='Jamaica'),\n",
       " Row(native_country='Canada'),\n",
       " Row(native_country='United-States'),\n",
       " Row(native_country='Dominican-Republic'),\n",
       " Row(native_country='Outlying-US(Guam-USVI-etc)'),\n",
       " Row(native_country='Japan'),\n",
       " Row(native_country='England'),\n",
       " Row(native_country='Haiti'),\n",
       " Row(native_country='Poland'),\n",
       " Row(native_country='Portugal'),\n",
       " Row(native_country='Columbia'),\n",
       " Row(native_country='Scotland'),\n",
       " Row(native_country='Hungary'),\n",
       " Row(native_country='Vietnam'),\n",
       " Row(native_country='Trinadad&Tobago')]"
      ]
     },
     "execution_count": 16,
     "metadata": {},
     "output_type": "execute_result"
    }
   ],
   "source": [
    "dfs=dfs.withColumn('native_country', regexp_replace('native_country', \"\\\\?\", 'Not-specified'))\n",
    "dfs.select('native_country').distinct().collect()"
   ]
  },
  {
   "cell_type": "markdown",
   "id": "612eba9a",
   "metadata": {},
   "source": [
    "### Make the values for education consistant"
   ]
  },
  {
   "cell_type": "code",
   "execution_count": 17,
   "id": "90b7172a",
   "metadata": {},
   "outputs": [
    {
     "data": {
      "text/plain": [
       "[Row(education='Masters'),\n",
       " Row(education='10th'),\n",
       " Row(education='5th-6th'),\n",
       " Row(education='Assoc-acdm'),\n",
       " Row(education='Assoc-voc'),\n",
       " Row(education='7th-8th'),\n",
       " Row(education='9th'),\n",
       " Row(education='HS-grad'),\n",
       " Row(education='Bachelors'),\n",
       " Row(education='11th'),\n",
       " Row(education='1st-4th'),\n",
       " Row(education='Preschool'),\n",
       " Row(education='12th'),\n",
       " Row(education='Doctorate'),\n",
       " Row(education='Some-college'),\n",
       " Row(education='Prof-school')]"
      ]
     },
     "execution_count": 17,
     "metadata": {},
     "output_type": "execute_result"
    }
   ],
   "source": [
    "dfs.select('education').distinct().collect()"
   ]
  },
  {
   "cell_type": "code",
   "execution_count": 18,
   "id": "f82528e1",
   "metadata": {},
   "outputs": [
    {
     "data": {
      "text/plain": [
       "[Row(education='Masters'),\n",
       " Row(education='10th'),\n",
       " Row(education='6th'),\n",
       " Row(education='Assoc-acdm'),\n",
       " Row(education='Assoc-voc'),\n",
       " Row(education='9th'),\n",
       " Row(education='HS-grad'),\n",
       " Row(education='Bachelors'),\n",
       " Row(education='11th'),\n",
       " Row(education='Preschool'),\n",
       " Row(education='8th'),\n",
       " Row(education='12th'),\n",
       " Row(education='Doctorate'),\n",
       " Row(education='4th'),\n",
       " Row(education='Some-college'),\n",
       " Row(education='Prof-school')]"
      ]
     },
     "execution_count": 18,
     "metadata": {},
     "output_type": "execute_result"
    }
   ],
   "source": [
    "dfs=dfs.withColumn('education', regexp_replace('education', \"5th-6th\", '6th'))\n",
    "dfs=dfs.withColumn('education', regexp_replace('education', \"7th-8th\", '8th'))\n",
    "dfs=dfs.withColumn('education', regexp_replace('education', \"1st-4th\", '4th'))\n",
    "\n",
    "dfs.select('education').distinct().collect()"
   ]
  },
  {
   "cell_type": "markdown",
   "id": "06f7bfc3",
   "metadata": {},
   "source": [
    "### Change the values for salary to be 0 if <=50k, and 1 if >50k"
   ]
  },
  {
   "cell_type": "code",
   "execution_count": 19,
   "id": "0f62e919",
   "metadata": {},
   "outputs": [
    {
     "data": {
      "text/plain": [
       "[Row(salary='<=50K'), Row(salary='>50K')]"
      ]
     },
     "execution_count": 19,
     "metadata": {},
     "output_type": "execute_result"
    }
   ],
   "source": [
    "dfs.select('salary').distinct().collect()"
   ]
  },
  {
   "cell_type": "code",
   "execution_count": 20,
   "id": "f211df21",
   "metadata": {},
   "outputs": [
    {
     "data": {
      "text/plain": [
       "[Row(salary=50000), Row(salary=50001)]"
      ]
     },
     "execution_count": 20,
     "metadata": {},
     "output_type": "execute_result"
    }
   ],
   "source": [
    "dfs=dfs.withColumn('salary', regexp_replace('salary', \"<=50K\", '50000'))\n",
    "dfs=dfs.withColumn('salary', regexp_replace('salary', \">50K\", '50001'))\n",
    "dfs = dfs.withColumn(\"salary\", dfs[\"salary\"].cast('int'))\n",
    "\n",
    "dfs.select('salary').distinct().collect()"
   ]
  },
  {
   "cell_type": "code",
   "execution_count": 21,
   "id": "e9da7c51",
   "metadata": {},
   "outputs": [
    {
     "data": {
      "text/plain": [
       "[Row(salary=1), Row(salary=0)]"
      ]
     },
     "execution_count": 21,
     "metadata": {},
     "output_type": "execute_result"
    }
   ],
   "source": [
    "dfs = dfs.withColumn(\"salary\", dfs[\"salary\"].cast('string'))\n",
    "\n",
    "dfs=dfs.withColumn('salary', regexp_replace('salary', \"50000\", '0'))\n",
    "dfs=dfs.withColumn('salary', regexp_replace('salary', \"50001\", '1'))\n",
    "dfs = dfs.withColumn(\"salary\", dfs[\"salary\"].cast('int'))\n",
    "\n",
    "dfs.select('salary').distinct().collect()"
   ]
  },
  {
   "cell_type": "markdown",
   "id": "19c483e7",
   "metadata": {},
   "source": [
    "### Summing the values for the fnlwgt column, and getting the percentage of fnlwgt"
   ]
  },
  {
   "cell_type": "code",
   "execution_count": 22,
   "id": "8b1b999c",
   "metadata": {},
   "outputs": [
    {
     "data": {
      "text/plain": [
       "196336661945"
      ]
     },
     "execution_count": 22,
     "metadata": {},
     "output_type": "execute_result"
    }
   ],
   "source": [
    "sum_fnlwgt=dfs.select(sum('fnlwgt')).collect()[0][0]\n",
    "sum_fnlwgt"
   ]
  },
  {
   "cell_type": "code",
   "execution_count": 23,
   "id": "4e245988",
   "metadata": {
    "scrolled": false
   },
   "outputs": [
    {
     "name": "stdout",
     "output_type": "stream",
     "text": [
      "+---+----------------+------+------------+-------------+--------------------+-----------------+-------------+------------------+------+------------+------------+--------------+--------------+------+-----------------+\n",
      "|age|       workclass|fnlwgt|   education|education_num|      marital_status|       occupation| relationship|              race|gender|capital_gain|capital_loss|hours_per_week|native_country|salary|fnlwgt_percentage|\n",
      "+---+----------------+------+------------+-------------+--------------------+-----------------+-------------+------------------+------+------------+------------+--------------+--------------+------+-----------------+\n",
      "| 39|       State-gov| 77516|   Bachelors|           13|       Never-married|     Adm-clerical|Not-in-family|             White|  Male|        2174|           0|            40| United-States|     0|              0.0|\n",
      "| 50|Self-emp-not-inc| 83311|   Bachelors|           13|  Married-civ-spouse|  Exec-managerial|      Husband|             White|  Male|           0|           0|            13| United-States|     0|              0.0|\n",
      "| 38|         Private|215646|     HS-grad|            9|            Divorced|Handlers-cleaners|Not-in-family|             White|  Male|           0|           0|            40| United-States|     0|              0.0|\n",
      "| 53|         Private|234721|        11th|            7|  Married-civ-spouse|Handlers-cleaners|      Husband|             Black|  Male|           0|           0|            40| United-States|     0|              0.0|\n",
      "| 28|         Private|338409|   Bachelors|           13|  Married-civ-spouse|   Prof-specialty|         Wife|             Black|Female|           0|           0|            40|          Cuba|     0|              0.0|\n",
      "| 37|         Private|284582|     Masters|           14|  Married-civ-spouse|  Exec-managerial|         Wife|             White|Female|           0|           0|            40| United-States|     0|              0.0|\n",
      "| 49|         Private|160187|         9th|            5|Married-spouse-ab...|    Other-service|Not-in-family|             Black|Female|           0|           0|            16|       Jamaica|     0|              0.0|\n",
      "| 52|Self-emp-not-inc|209642|     HS-grad|            9|  Married-civ-spouse|  Exec-managerial|      Husband|             White|  Male|           0|           0|            45| United-States|     1|              0.0|\n",
      "| 31|         Private| 45781|     Masters|           14|       Never-married|   Prof-specialty|Not-in-family|             White|Female|       14084|           0|            50| United-States|     1|              0.0|\n",
      "| 42|         Private|159449|   Bachelors|           13|  Married-civ-spouse|  Exec-managerial|      Husband|             White|  Male|        5178|           0|            40| United-States|     1|              0.0|\n",
      "| 37|         Private|280464|Some-college|           10|  Married-civ-spouse|  Exec-managerial|      Husband|             Black|  Male|           0|           0|            80| United-States|     1|              0.0|\n",
      "| 30|       State-gov|141297|   Bachelors|           13|  Married-civ-spouse|   Prof-specialty|      Husband|Asian-Pac-Islander|  Male|           0|           0|            40|         India|     1|              0.0|\n",
      "| 23|         Private|122272|   Bachelors|           13|       Never-married|     Adm-clerical|    Own-child|             White|Female|           0|           0|            30| United-States|     0|              0.0|\n",
      "| 32|         Private|205019|  Assoc-acdm|           12|       Never-married|            Sales|Not-in-family|             Black|  Male|           0|           0|            50| United-States|     0|              0.0|\n",
      "| 40|         Private|121772|   Assoc-voc|           11|  Married-civ-spouse|     Craft-repair|      Husband|Asian-Pac-Islander|  Male|           0|           0|            40| Not-specified|     1|              0.0|\n",
      "| 34|         Private|245487|         8th|            4|  Married-civ-spouse| Transport-moving|      Husband|Amer-Indian-Eskimo|  Male|           0|           0|            45|        Mexico|     0|              0.0|\n",
      "| 25|Self-emp-not-inc|176756|     HS-grad|            9|       Never-married|  Farming-fishing|    Own-child|             White|  Male|           0|           0|            35| United-States|     0|              0.0|\n",
      "| 32|         Private|186824|     HS-grad|            9|       Never-married|Machine-op-inspct|    Unmarried|             White|  Male|           0|           0|            40| United-States|     0|              0.0|\n",
      "| 38|         Private| 28887|        11th|            7|  Married-civ-spouse|            Sales|      Husband|             White|  Male|           0|           0|            50| United-States|     0|              0.0|\n",
      "| 43|Self-emp-not-inc|292175|     Masters|           14|            Divorced|  Exec-managerial|    Unmarried|             White|Female|           0|           0|            45| United-States|     1|              0.0|\n",
      "+---+----------------+------+------------+-------------+--------------------+-----------------+-------------+------------------+------+------------+------------+--------------+--------------+------+-----------------+\n",
      "only showing top 20 rows\n",
      "\n"
     ]
    }
   ],
   "source": [
    "dfs=dfs.withColumn('fnlwgt_percentage',round((dfs.fnlwgt/sum_fnlwgt)*100,2))\n",
    "dfs.show()"
   ]
  },
  {
   "cell_type": "markdown",
   "id": "23c359ab",
   "metadata": {},
   "source": [
    "### The diffrence of  capital gain and loss"
   ]
  },
  {
   "cell_type": "code",
   "execution_count": 24,
   "id": "79005a7a",
   "metadata": {},
   "outputs": [
    {
     "name": "stdout",
     "output_type": "stream",
     "text": [
      "+---+----------------+------+------------+-------------+--------------------+-----------------+-------------+------------------+------+------------+------------+--------------+--------------+------+-----------------+---------------------------+\n",
      "|age|       workclass|fnlwgt|   education|education_num|      marital_status|       occupation| relationship|              race|gender|capital_gain|capital_loss|hours_per_week|native_country|salary|fnlwgt_percentage|diffrence_capital_gain_loos|\n",
      "+---+----------------+------+------------+-------------+--------------------+-----------------+-------------+------------------+------+------------+------------+--------------+--------------+------+-----------------+---------------------------+\n",
      "| 39|       State-gov| 77516|   Bachelors|           13|       Never-married|     Adm-clerical|Not-in-family|             White|  Male|        2174|           0|            40| United-States|     0|              0.0|                       2174|\n",
      "| 50|Self-emp-not-inc| 83311|   Bachelors|           13|  Married-civ-spouse|  Exec-managerial|      Husband|             White|  Male|           0|           0|            13| United-States|     0|              0.0|                          0|\n",
      "| 38|         Private|215646|     HS-grad|            9|            Divorced|Handlers-cleaners|Not-in-family|             White|  Male|           0|           0|            40| United-States|     0|              0.0|                          0|\n",
      "| 53|         Private|234721|        11th|            7|  Married-civ-spouse|Handlers-cleaners|      Husband|             Black|  Male|           0|           0|            40| United-States|     0|              0.0|                          0|\n",
      "| 28|         Private|338409|   Bachelors|           13|  Married-civ-spouse|   Prof-specialty|         Wife|             Black|Female|           0|           0|            40|          Cuba|     0|              0.0|                          0|\n",
      "| 37|         Private|284582|     Masters|           14|  Married-civ-spouse|  Exec-managerial|         Wife|             White|Female|           0|           0|            40| United-States|     0|              0.0|                          0|\n",
      "| 49|         Private|160187|         9th|            5|Married-spouse-ab...|    Other-service|Not-in-family|             Black|Female|           0|           0|            16|       Jamaica|     0|              0.0|                          0|\n",
      "| 52|Self-emp-not-inc|209642|     HS-grad|            9|  Married-civ-spouse|  Exec-managerial|      Husband|             White|  Male|           0|           0|            45| United-States|     1|              0.0|                          0|\n",
      "| 31|         Private| 45781|     Masters|           14|       Never-married|   Prof-specialty|Not-in-family|             White|Female|       14084|           0|            50| United-States|     1|              0.0|                      14084|\n",
      "| 42|         Private|159449|   Bachelors|           13|  Married-civ-spouse|  Exec-managerial|      Husband|             White|  Male|        5178|           0|            40| United-States|     1|              0.0|                       5178|\n",
      "| 37|         Private|280464|Some-college|           10|  Married-civ-spouse|  Exec-managerial|      Husband|             Black|  Male|           0|           0|            80| United-States|     1|              0.0|                          0|\n",
      "| 30|       State-gov|141297|   Bachelors|           13|  Married-civ-spouse|   Prof-specialty|      Husband|Asian-Pac-Islander|  Male|           0|           0|            40|         India|     1|              0.0|                          0|\n",
      "| 23|         Private|122272|   Bachelors|           13|       Never-married|     Adm-clerical|    Own-child|             White|Female|           0|           0|            30| United-States|     0|              0.0|                          0|\n",
      "| 32|         Private|205019|  Assoc-acdm|           12|       Never-married|            Sales|Not-in-family|             Black|  Male|           0|           0|            50| United-States|     0|              0.0|                          0|\n",
      "| 40|         Private|121772|   Assoc-voc|           11|  Married-civ-spouse|     Craft-repair|      Husband|Asian-Pac-Islander|  Male|           0|           0|            40| Not-specified|     1|              0.0|                          0|\n",
      "| 34|         Private|245487|         8th|            4|  Married-civ-spouse| Transport-moving|      Husband|Amer-Indian-Eskimo|  Male|           0|           0|            45|        Mexico|     0|              0.0|                          0|\n",
      "| 25|Self-emp-not-inc|176756|     HS-grad|            9|       Never-married|  Farming-fishing|    Own-child|             White|  Male|           0|           0|            35| United-States|     0|              0.0|                          0|\n",
      "| 32|         Private|186824|     HS-grad|            9|       Never-married|Machine-op-inspct|    Unmarried|             White|  Male|           0|           0|            40| United-States|     0|              0.0|                          0|\n",
      "| 38|         Private| 28887|        11th|            7|  Married-civ-spouse|            Sales|      Husband|             White|  Male|           0|           0|            50| United-States|     0|              0.0|                          0|\n",
      "| 43|Self-emp-not-inc|292175|     Masters|           14|            Divorced|  Exec-managerial|    Unmarried|             White|Female|           0|           0|            45| United-States|     1|              0.0|                          0|\n",
      "+---+----------------+------+------------+-------------+--------------------+-----------------+-------------+------------------+------+------------+------------+--------------+--------------+------+-----------------+---------------------------+\n",
      "only showing top 20 rows\n",
      "\n"
     ]
    }
   ],
   "source": [
    "dfs=dfs.withColumn('diffrence_capital_gain_loos',(dfs.capital_gain-dfs.capital_loss))\n",
    "dfs.show()"
   ]
  },
  {
   "cell_type": "code",
   "execution_count": 25,
   "id": "d1e3d916",
   "metadata": {},
   "outputs": [
    {
     "name": "stdout",
     "output_type": "stream",
     "text": [
      "+---+----------------+------+------------+-------------+--------------------+-----------------+-------------+------------------+------+------------+------------+--------------+--------------+------+-----------------+---------------------------+------+\n",
      "|age|       workclass|fnlwgt|   education|education_num|      marital_status|       occupation| relationship|              race|gender|capital_gain|capital_loss|hours_per_week|native_country|salary|fnlwgt_percentage|diffrence_capital_gain_loos|profit|\n",
      "+---+----------------+------+------------+-------------+--------------------+-----------------+-------------+------------------+------+------------+------------+--------------+--------------+------+-----------------+---------------------------+------+\n",
      "| 39|       State-gov| 77516|   Bachelors|           13|       Never-married|     Adm-clerical|Not-in-family|             White|  Male|        2174|           0|            40| United-States|     0|              0.0|                       2174|     1|\n",
      "| 50|Self-emp-not-inc| 83311|   Bachelors|           13|  Married-civ-spouse|  Exec-managerial|      Husband|             White|  Male|           0|           0|            13| United-States|     0|              0.0|                          0|     0|\n",
      "| 38|         Private|215646|     HS-grad|            9|            Divorced|Handlers-cleaners|Not-in-family|             White|  Male|           0|           0|            40| United-States|     0|              0.0|                          0|     0|\n",
      "| 53|         Private|234721|        11th|            7|  Married-civ-spouse|Handlers-cleaners|      Husband|             Black|  Male|           0|           0|            40| United-States|     0|              0.0|                          0|     0|\n",
      "| 28|         Private|338409|   Bachelors|           13|  Married-civ-spouse|   Prof-specialty|         Wife|             Black|Female|           0|           0|            40|          Cuba|     0|              0.0|                          0|     0|\n",
      "| 37|         Private|284582|     Masters|           14|  Married-civ-spouse|  Exec-managerial|         Wife|             White|Female|           0|           0|            40| United-States|     0|              0.0|                          0|     0|\n",
      "| 49|         Private|160187|         9th|            5|Married-spouse-ab...|    Other-service|Not-in-family|             Black|Female|           0|           0|            16|       Jamaica|     0|              0.0|                          0|     0|\n",
      "| 52|Self-emp-not-inc|209642|     HS-grad|            9|  Married-civ-spouse|  Exec-managerial|      Husband|             White|  Male|           0|           0|            45| United-States|     1|              0.0|                          0|     0|\n",
      "| 31|         Private| 45781|     Masters|           14|       Never-married|   Prof-specialty|Not-in-family|             White|Female|       14084|           0|            50| United-States|     1|              0.0|                      14084|     1|\n",
      "| 42|         Private|159449|   Bachelors|           13|  Married-civ-spouse|  Exec-managerial|      Husband|             White|  Male|        5178|           0|            40| United-States|     1|              0.0|                       5178|     1|\n",
      "| 37|         Private|280464|Some-college|           10|  Married-civ-spouse|  Exec-managerial|      Husband|             Black|  Male|           0|           0|            80| United-States|     1|              0.0|                          0|     0|\n",
      "| 30|       State-gov|141297|   Bachelors|           13|  Married-civ-spouse|   Prof-specialty|      Husband|Asian-Pac-Islander|  Male|           0|           0|            40|         India|     1|              0.0|                          0|     0|\n",
      "| 23|         Private|122272|   Bachelors|           13|       Never-married|     Adm-clerical|    Own-child|             White|Female|           0|           0|            30| United-States|     0|              0.0|                          0|     0|\n",
      "| 32|         Private|205019|  Assoc-acdm|           12|       Never-married|            Sales|Not-in-family|             Black|  Male|           0|           0|            50| United-States|     0|              0.0|                          0|     0|\n",
      "| 40|         Private|121772|   Assoc-voc|           11|  Married-civ-spouse|     Craft-repair|      Husband|Asian-Pac-Islander|  Male|           0|           0|            40| Not-specified|     1|              0.0|                          0|     0|\n",
      "| 34|         Private|245487|         8th|            4|  Married-civ-spouse| Transport-moving|      Husband|Amer-Indian-Eskimo|  Male|           0|           0|            45|        Mexico|     0|              0.0|                          0|     0|\n",
      "| 25|Self-emp-not-inc|176756|     HS-grad|            9|       Never-married|  Farming-fishing|    Own-child|             White|  Male|           0|           0|            35| United-States|     0|              0.0|                          0|     0|\n",
      "| 32|         Private|186824|     HS-grad|            9|       Never-married|Machine-op-inspct|    Unmarried|             White|  Male|           0|           0|            40| United-States|     0|              0.0|                          0|     0|\n",
      "| 38|         Private| 28887|        11th|            7|  Married-civ-spouse|            Sales|      Husband|             White|  Male|           0|           0|            50| United-States|     0|              0.0|                          0|     0|\n",
      "| 43|Self-emp-not-inc|292175|     Masters|           14|            Divorced|  Exec-managerial|    Unmarried|             White|Female|           0|           0|            45| United-States|     1|              0.0|                          0|     0|\n",
      "+---+----------------+------+------------+-------------+--------------------+-----------------+-------------+------------------+------+------------+------------+--------------+--------------+------+-----------------+---------------------------+------+\n",
      "only showing top 20 rows\n",
      "\n"
     ]
    }
   ],
   "source": [
    "dfs=dfs.withColumn('profit',when((dfs.diffrence_capital_gain_loos >0), lit(1)).when((dfs.diffrence_capital_gain_loos ==0), lit(0)).when((dfs.diffrence_capital_gain_loos <0), lit(-1)))\n",
    "dfs.show()"
   ]
  },
  {
   "cell_type": "code",
   "execution_count": 26,
   "id": "045a1c62",
   "metadata": {},
   "outputs": [
    {
     "data": {
      "text/plain": [
       "[Row(profit=-1), Row(profit=1), Row(profit=0)]"
      ]
     },
     "execution_count": 26,
     "metadata": {},
     "output_type": "execute_result"
    }
   ],
   "source": [
    "dfs.select('profit').distinct().collect()"
   ]
  },
  {
   "cell_type": "code",
   "execution_count": 27,
   "id": "09e354ad",
   "metadata": {},
   "outputs": [
    {
     "name": "stdout",
     "output_type": "stream",
     "text": [
      "+---+----------------+------+------------+-------------+------------------+----------------+-------------+------------------+------+------------+------------+--------------+--------------+------+-----------------+---------------------------+------+\n",
      "|age|workclass       |fnlwgt|education   |education_num|marital_status    |occupation      |relationship |race              |gender|capital_gain|capital_loss|hours_per_week|native_country|salary|fnlwgt_percentage|diffrence_capital_gain_loos|profit|\n",
      "+---+----------------+------+------------+-------------+------------------+----------------+-------------+------------------+------+------------+------------+--------------+--------------+------+-----------------+---------------------------+------+\n",
      "|43 |Private         |117037|11th        |7            |Married-civ-spouse|Transport-moving|Husband      |White             |Male  |0           |2042        |40            |United-States |0     |0.0              |-2042                      |-1    |\n",
      "|45 |Private         |386940|Bachelors   |13           |Divorced          |Exec-managerial |Own-child    |White             |Male  |0           |1408        |40            |United-States |0     |0.0              |-1408                      |-1    |\n",
      "|47 |Private         |51835 |Prof-school |15           |Married-civ-spouse|Prof-specialty  |Wife         |White             |Female|0           |1902        |60            |Honduras      |1     |0.0              |-1902                      |-1    |\n",
      "|30 |Private         |117747|HS-grad     |9            |Married-civ-spouse|Sales           |Wife         |Asian-Pac-Islander|Female|0           |1573        |35            |Not-specified |0     |0.0              |-1573                      |-1    |\n",
      "|48 |Self-emp-not-inc|191277|Doctorate   |16           |Married-civ-spouse|Prof-specialty  |Husband      |White             |Male  |0           |1902        |60            |United-States |1     |0.0              |-1902                      |-1    |\n",
      "|56 |Self-emp-not-inc|335605|HS-grad     |9            |Married-civ-spouse|Other-service   |Husband      |White             |Male  |0           |1887        |50            |Canada        |1     |0.0              |-1887                      |-1    |\n",
      "|20 |Private         |111697|Some-college|10           |Never-married     |Adm-clerical    |Own-child    |White             |Female|0           |1719        |28            |United-States |0     |0.0              |-1719                      |-1    |\n",
      "|24 |Private         |43323 |HS-grad     |9            |Never-married     |Other-service   |Not-in-family|White             |Female|0           |1762        |40            |United-States |0     |0.0              |-1762                      |-1    |\n",
      "|45 |Private         |196584|Assoc-voc   |11           |Never-married     |Prof-specialty  |Not-in-family|White             |Female|0           |1564        |40            |United-States |1     |0.0              |-1564                      |-1    |\n",
      "|64 |Private         |181232|11th        |7            |Married-civ-spouse|Craft-repair    |Husband      |White             |Male  |0           |2179        |40            |United-States |0     |0.0              |-2179                      |-1    |\n",
      "|71 |Self-emp-not-inc|494223|Some-college|10           |Separated         |Sales           |Unmarried    |Black             |Male  |0           |1816        |2             |United-States |0     |0.0              |-1816                      |-1    |\n",
      "|27 |Private         |124953|HS-grad     |9            |Never-married     |Other-service   |Not-in-family|White             |Male  |0           |1980        |40            |United-States |0     |0.0              |-1980                      |-1    |\n",
      "|51 |Private         |96062 |Some-college|10           |Married-civ-spouse|Sales           |Husband      |White             |Male  |0           |1977        |40            |United-States |1     |0.0              |-1977                      |-1    |\n",
      "|26 |Private         |397317|Masters     |14           |Never-married     |Prof-specialty  |Not-in-family|White             |Female|0           |1876        |40            |United-States |0     |0.0              |-1876                      |-1    |\n",
      "|42 |Local-gov       |254817|Some-college|10           |Never-married     |Prof-specialty  |Not-in-family|White             |Female|0           |1340        |40            |United-States |0     |0.0              |-1340                      |-1    |\n",
      "|90 |Private         |51744 |HS-grad     |9            |Never-married     |Other-service   |Not-in-family|Black             |Male  |0           |2206        |40            |United-States |0     |0.0              |-2206                      |-1    |\n",
      "|38 |Private         |179488|Some-college|10           |Divorced          |Craft-repair    |Not-in-family|White             |Male  |0           |1741        |40            |United-States |0     |0.0              |-1741                      |-1    |\n",
      "|40 |Private         |207578|Assoc-acdm  |12           |Married-civ-spouse|Tech-support    |Husband      |White             |Male  |0           |1977        |60            |United-States |1     |0.0              |-1977                      |-1    |\n",
      "|43 |Private         |50356 |Some-college|10           |Married-civ-spouse|Craft-repair    |Husband      |White             |Male  |0           |1485        |50            |United-States |0     |0.0              |-1485                      |-1    |\n",
      "|43 |Private         |187728|Some-college|10           |Married-civ-spouse|Prof-specialty  |Wife         |White             |Female|0           |1887        |50            |United-States |1     |0.0              |-1887                      |-1    |\n",
      "+---+----------------+------+------------+-------------+------------------+----------------+-------------+------------------+------+------------+------------+--------------+--------------+------+-----------------+---------------------------+------+\n",
      "only showing top 20 rows\n",
      "\n"
     ]
    }
   ],
   "source": [
    "dfs.filter(dfs.profit == -1).show(truncate=False)"
   ]
  },
  {
   "cell_type": "markdown",
   "id": "67685c62",
   "metadata": {},
   "source": [
    "### Finding if someone is workholic which is 1, or no which is 0"
   ]
  },
  {
   "cell_type": "code",
   "execution_count": 28,
   "id": "0754d74f",
   "metadata": {},
   "outputs": [
    {
     "name": "stdout",
     "output_type": "stream",
     "text": [
      "+---+----------------+------+------------+-------------+--------------------+-----------------+-------------+------------------+------+------------+------------+--------------+--------------+------+-----------------+---------------------------+------+----------+\n",
      "|age|       workclass|fnlwgt|   education|education_num|      marital_status|       occupation| relationship|              race|gender|capital_gain|capital_loss|hours_per_week|native_country|salary|fnlwgt_percentage|diffrence_capital_gain_loos|profit|workaholic|\n",
      "+---+----------------+------+------------+-------------+--------------------+-----------------+-------------+------------------+------+------------+------------+--------------+--------------+------+-----------------+---------------------------+------+----------+\n",
      "| 39|       State-gov| 77516|   Bachelors|           13|       Never-married|     Adm-clerical|Not-in-family|             White|  Male|        2174|           0|            40| United-States|     0|              0.0|                       2174|     1|         0|\n",
      "| 50|Self-emp-not-inc| 83311|   Bachelors|           13|  Married-civ-spouse|  Exec-managerial|      Husband|             White|  Male|           0|           0|            13| United-States|     0|              0.0|                          0|     0|         0|\n",
      "| 38|         Private|215646|     HS-grad|            9|            Divorced|Handlers-cleaners|Not-in-family|             White|  Male|           0|           0|            40| United-States|     0|              0.0|                          0|     0|         0|\n",
      "| 53|         Private|234721|        11th|            7|  Married-civ-spouse|Handlers-cleaners|      Husband|             Black|  Male|           0|           0|            40| United-States|     0|              0.0|                          0|     0|         0|\n",
      "| 28|         Private|338409|   Bachelors|           13|  Married-civ-spouse|   Prof-specialty|         Wife|             Black|Female|           0|           0|            40|          Cuba|     0|              0.0|                          0|     0|         0|\n",
      "| 37|         Private|284582|     Masters|           14|  Married-civ-spouse|  Exec-managerial|         Wife|             White|Female|           0|           0|            40| United-States|     0|              0.0|                          0|     0|         0|\n",
      "| 49|         Private|160187|         9th|            5|Married-spouse-ab...|    Other-service|Not-in-family|             Black|Female|           0|           0|            16|       Jamaica|     0|              0.0|                          0|     0|         0|\n",
      "| 52|Self-emp-not-inc|209642|     HS-grad|            9|  Married-civ-spouse|  Exec-managerial|      Husband|             White|  Male|           0|           0|            45| United-States|     1|              0.0|                          0|     0|         0|\n",
      "| 31|         Private| 45781|     Masters|           14|       Never-married|   Prof-specialty|Not-in-family|             White|Female|       14084|           0|            50| United-States|     1|              0.0|                      14084|     1|         0|\n",
      "| 42|         Private|159449|   Bachelors|           13|  Married-civ-spouse|  Exec-managerial|      Husband|             White|  Male|        5178|           0|            40| United-States|     1|              0.0|                       5178|     1|         0|\n",
      "| 37|         Private|280464|Some-college|           10|  Married-civ-spouse|  Exec-managerial|      Husband|             Black|  Male|           0|           0|            80| United-States|     1|              0.0|                          0|     0|         1|\n",
      "| 30|       State-gov|141297|   Bachelors|           13|  Married-civ-spouse|   Prof-specialty|      Husband|Asian-Pac-Islander|  Male|           0|           0|            40|         India|     1|              0.0|                          0|     0|         0|\n",
      "| 23|         Private|122272|   Bachelors|           13|       Never-married|     Adm-clerical|    Own-child|             White|Female|           0|           0|            30| United-States|     0|              0.0|                          0|     0|         0|\n",
      "| 32|         Private|205019|  Assoc-acdm|           12|       Never-married|            Sales|Not-in-family|             Black|  Male|           0|           0|            50| United-States|     0|              0.0|                          0|     0|         0|\n",
      "| 40|         Private|121772|   Assoc-voc|           11|  Married-civ-spouse|     Craft-repair|      Husband|Asian-Pac-Islander|  Male|           0|           0|            40| Not-specified|     1|              0.0|                          0|     0|         0|\n",
      "| 34|         Private|245487|         8th|            4|  Married-civ-spouse| Transport-moving|      Husband|Amer-Indian-Eskimo|  Male|           0|           0|            45|        Mexico|     0|              0.0|                          0|     0|         0|\n",
      "| 25|Self-emp-not-inc|176756|     HS-grad|            9|       Never-married|  Farming-fishing|    Own-child|             White|  Male|           0|           0|            35| United-States|     0|              0.0|                          0|     0|         0|\n",
      "| 32|         Private|186824|     HS-grad|            9|       Never-married|Machine-op-inspct|    Unmarried|             White|  Male|           0|           0|            40| United-States|     0|              0.0|                          0|     0|         0|\n",
      "| 38|         Private| 28887|        11th|            7|  Married-civ-spouse|            Sales|      Husband|             White|  Male|           0|           0|            50| United-States|     0|              0.0|                          0|     0|         0|\n",
      "| 43|Self-emp-not-inc|292175|     Masters|           14|            Divorced|  Exec-managerial|    Unmarried|             White|Female|           0|           0|            45| United-States|     1|              0.0|                          0|     0|         0|\n",
      "+---+----------------+------+------------+-------------+--------------------+-----------------+-------------+------------------+------+------------+------------+--------------+--------------+------+-----------------+---------------------------+------+----------+\n",
      "only showing top 20 rows\n",
      "\n"
     ]
    }
   ],
   "source": [
    "dfs=dfs.withColumn('workaholic',when((dfs.hours_per_week >=70), lit(1)).when((dfs.hours_per_week <70), lit(0)))\n",
    "dfs.show()"
   ]
  },
  {
   "cell_type": "markdown",
   "id": "5d69af01",
   "metadata": {},
   "source": [
    "### Replacing the native_country with in united state or not"
   ]
  },
  {
   "cell_type": "code",
   "execution_count": 29,
   "id": "9f349aff",
   "metadata": {},
   "outputs": [
    {
     "data": {
      "text/plain": [
       "[Row(native_country='Philippines'),\n",
       " Row(native_country='Germany'),\n",
       " Row(native_country='Cambodia'),\n",
       " Row(native_country='France'),\n",
       " Row(native_country='Greece'),\n",
       " Row(native_country='Taiwan'),\n",
       " Row(native_country='Ecuador'),\n",
       " Row(native_country='Nicaragua'),\n",
       " Row(native_country='Hong'),\n",
       " Row(native_country='Peru'),\n",
       " Row(native_country='India'),\n",
       " Row(native_country='China'),\n",
       " Row(native_country='Not-specified'),\n",
       " Row(native_country='Italy'),\n",
       " Row(native_country='Holand-Netherlands'),\n",
       " Row(native_country='Cuba'),\n",
       " Row(native_country='South'),\n",
       " Row(native_country='Iran'),\n",
       " Row(native_country='Ireland'),\n",
       " Row(native_country='Thailand'),\n",
       " Row(native_country='Laos'),\n",
       " Row(native_country='El-Salvador'),\n",
       " Row(native_country='Mexico'),\n",
       " Row(native_country='Guatemala'),\n",
       " Row(native_country='Honduras'),\n",
       " Row(native_country='Yugoslavia'),\n",
       " Row(native_country='Puerto-Rico'),\n",
       " Row(native_country='Jamaica'),\n",
       " Row(native_country='Canada'),\n",
       " Row(native_country='United-States'),\n",
       " Row(native_country='Dominican-Republic'),\n",
       " Row(native_country='Outlying-US(Guam-USVI-etc)'),\n",
       " Row(native_country='Japan'),\n",
       " Row(native_country='England'),\n",
       " Row(native_country='Haiti'),\n",
       " Row(native_country='Poland'),\n",
       " Row(native_country='Portugal'),\n",
       " Row(native_country='Columbia'),\n",
       " Row(native_country='Scotland'),\n",
       " Row(native_country='Hungary'),\n",
       " Row(native_country='Vietnam'),\n",
       " Row(native_country='Trinadad&Tobago')]"
      ]
     },
     "execution_count": 29,
     "metadata": {},
     "output_type": "execute_result"
    }
   ],
   "source": [
    "dfs.select('native_country').distinct().collect()"
   ]
  },
  {
   "cell_type": "code",
   "execution_count": 30,
   "id": "ccfd0727",
   "metadata": {},
   "outputs": [],
   "source": [
    "dfs=dfs.withColumn('native_country', regexp_replace('native_country', \"Philippines\", 'Asia'))\n",
    "dfs=dfs.withColumn('native_country', regexp_replace('native_country', \"Germany\", 'Europe'))\n",
    "dfs=dfs.withColumn('native_country', regexp_replace('native_country', \"Cambodia\", 'Asia'))\n",
    "dfs=dfs.withColumn('native_country', regexp_replace('native_country', \"France\", 'Europe'))\n",
    "dfs=dfs.withColumn('native_country', regexp_replace('native_country', \"Greece\", 'Europe'))\n",
    "dfs=dfs.withColumn('native_country', regexp_replace('native_country', \"Taiwan\", 'Asia'))\n",
    "dfs=dfs.withColumn('native_country', regexp_replace('native_country', \"Ecuador\", 'South_America'))\n",
    "dfs=dfs.withColumn('native_country', regexp_replace('native_country', \"Nicaragua\", 'Central_America'))\n",
    "dfs=dfs.withColumn('native_country', regexp_replace('native_country', \"Hong\", 'Asia'))\n",
    "dfs=dfs.withColumn('native_country', regexp_replace('native_country', \"Peru\", 'South_America'))\n",
    "dfs=dfs.withColumn('native_country', regexp_replace('native_country', \"India\", 'Asia'))\n",
    "dfs=dfs.withColumn('native_country', regexp_replace('native_country', \"China\", 'Asia'))\n",
    "dfs=dfs.withColumn('native_country', regexp_replace('native_country', \"Italy\", 'Europe'))\n",
    "dfs=dfs.withColumn('native_country', regexp_replace('native_country', \"Holand-Netherlands\", 'Europe'))\n",
    "dfs=dfs.withColumn('native_country', regexp_replace('native_country', \"Cuba\", 'Caribbean'))\n",
    "dfs=dfs.withColumn('native_country', regexp_replace('native_country', \"Iran\", 'Middle_East'))\n",
    "dfs=dfs.withColumn('native_country', regexp_replace('native_country', \"Ireland\", 'Europe'))\n",
    "dfs=dfs.withColumn('native_country', regexp_replace('native_country', \"Thailand\", 'Asia'))\n",
    "dfs=dfs.withColumn('native_country', regexp_replace('native_country', \"Laos\", 'Asia'))\n",
    "dfs=dfs.withColumn('native_country', regexp_replace('native_country', \"El-Salvador\", 'Central_America'))\n",
    "dfs=dfs.withColumn('native_country', regexp_replace('native_country', \"Mexico\", 'North_America'))\n",
    "dfs=dfs.withColumn('native_country', regexp_replace('native_country', \"Guatemala\", 'Central_America'))\n",
    "dfs=dfs.withColumn('native_country', regexp_replace('native_country', \"Honduras\", 'Central_America'))\n",
    "dfs=dfs.withColumn('native_country', regexp_replace('native_country', \"Yugoslavia\", 'Europe'))\n",
    "dfs=dfs.withColumn('native_country', regexp_replace('native_country', \"Puerto-Rico\", 'Caribbean'))\n",
    "dfs=dfs.withColumn('native_country', regexp_replace('native_country', \"Jamaica\", 'Caribbean'))\n",
    "dfs=dfs.withColumn('native_country', regexp_replace('native_country', \"Canada\", 'North_America'))\n",
    "dfs=dfs.withColumn('native_country', regexp_replace('native_country', \"United-States\", 'North_America'))\n",
    "dfs=dfs.withColumn('native_country', regexp_replace('native_country', \"Dominican-Republic\", 'Caribbean'))\n",
    "dfs=dfs.withColumn('native_country', regexp_replace('native_country', \"Outlying-US\\(Guam-USVI-etc\\)\", 'Caribbean'))\n",
    "dfs=dfs.withColumn('native_country', regexp_replace('native_country', \"Japan\", 'Asia'))\n",
    "dfs=dfs.withColumn('native_country', regexp_replace('native_country', \"England\", 'United_kingdom'))\n",
    "dfs=dfs.withColumn('native_country', regexp_replace('native_country', \"Haiti\", 'Caribbean'))\n",
    "dfs=dfs.withColumn('native_country', regexp_replace('native_country', \"Poland\", 'Europe'))\n",
    "dfs=dfs.withColumn('native_country', regexp_replace('native_country', \"Portugal\", 'Europe'))\n",
    "dfs=dfs.withColumn('native_country', regexp_replace('native_country', \"Columbia\", 'South_America'))\n",
    "dfs=dfs.withColumn('native_country', regexp_replace('native_country', \"Scotland\", 'United_kingdom'))\n",
    "dfs=dfs.withColumn('native_country', regexp_replace('native_country', \"Hungary\", 'Europe'))\n",
    "dfs=dfs.withColumn('native_country', regexp_replace('native_country', \"Vietnam\", 'Asia'))\n",
    "dfs=dfs.withColumn('native_country', regexp_replace('native_country', \"Trinadad&Tobago\", 'Caribbean'))"
   ]
  },
  {
   "cell_type": "code",
   "execution_count": 31,
   "id": "d5a6a022",
   "metadata": {},
   "outputs": [],
   "source": [
    "dfs=dfs.where(dfs.native_country!='South')"
   ]
  },
  {
   "cell_type": "code",
   "execution_count": 32,
   "id": "ca5d0ca9",
   "metadata": {},
   "outputs": [
    {
     "data": {
      "text/plain": [
       "[Row(native_country='Middle_East'),\n",
       " Row(native_country='Europe'),\n",
       " Row(native_country='Central_America'),\n",
       " Row(native_country='Not-specified'),\n",
       " Row(native_country='Caribbean'),\n",
       " Row(native_country='South_America'),\n",
       " Row(native_country='North_America'),\n",
       " Row(native_country='United_kingdom'),\n",
       " Row(native_country='Asia')]"
      ]
     },
     "execution_count": 32,
     "metadata": {},
     "output_type": "execute_result"
    }
   ],
   "source": [
    "dfs.select('native_country').distinct().collect()"
   ]
  },
  {
   "cell_type": "code",
   "execution_count": 33,
   "id": "6ef93fc5",
   "metadata": {},
   "outputs": [
    {
     "name": "stdout",
     "output_type": "stream",
     "text": [
      "root\n",
      " |-- age: integer (nullable = true)\n",
      " |-- workclass: string (nullable = true)\n",
      " |-- fnlwgt: integer (nullable = true)\n",
      " |-- education: string (nullable = true)\n",
      " |-- education_num: integer (nullable = true)\n",
      " |-- marital_status: string (nullable = true)\n",
      " |-- occupation: string (nullable = true)\n",
      " |-- relationship: string (nullable = true)\n",
      " |-- race: string (nullable = true)\n",
      " |-- gender: string (nullable = true)\n",
      " |-- capital_gain: integer (nullable = true)\n",
      " |-- capital_loss: integer (nullable = true)\n",
      " |-- hours_per_week: integer (nullable = true)\n",
      " |-- native_country: string (nullable = true)\n",
      " |-- salary: integer (nullable = true)\n",
      " |-- fnlwgt_percentage: double (nullable = true)\n",
      " |-- diffrence_capital_gain_loos: integer (nullable = true)\n",
      " |-- profit: integer (nullable = true)\n",
      " |-- workaholic: integer (nullable = true)\n",
      "\n"
     ]
    }
   ],
   "source": [
    "dfs.printSchema()"
   ]
  },
  {
   "cell_type": "code",
   "execution_count": 34,
   "id": "8a1d1ac3",
   "metadata": {},
   "outputs": [
    {
     "data": {
      "text/html": [
       "<div>\n",
       "<style scoped>\n",
       "    .dataframe tbody tr th:only-of-type {\n",
       "        vertical-align: middle;\n",
       "    }\n",
       "\n",
       "    .dataframe tbody tr th {\n",
       "        vertical-align: top;\n",
       "    }\n",
       "\n",
       "    .dataframe thead th {\n",
       "        text-align: right;\n",
       "    }\n",
       "</style>\n",
       "<table border=\"1\" class=\"dataframe\">\n",
       "  <thead>\n",
       "    <tr style=\"text-align: right;\">\n",
       "      <th></th>\n",
       "      <th>age</th>\n",
       "      <th>workclass</th>\n",
       "      <th>fnlwgt</th>\n",
       "      <th>education</th>\n",
       "      <th>education_num</th>\n",
       "      <th>marital_status</th>\n",
       "      <th>occupation</th>\n",
       "      <th>relationship</th>\n",
       "      <th>race</th>\n",
       "      <th>gender</th>\n",
       "      <th>capital_gain</th>\n",
       "      <th>capital_loss</th>\n",
       "      <th>hours_per_week</th>\n",
       "      <th>native_country</th>\n",
       "      <th>salary</th>\n",
       "      <th>fnlwgt_percentage</th>\n",
       "      <th>diffrence_capital_gain_loos</th>\n",
       "      <th>profit</th>\n",
       "      <th>workaholic</th>\n",
       "    </tr>\n",
       "  </thead>\n",
       "  <tbody>\n",
       "    <tr>\n",
       "      <th>0</th>\n",
       "      <td>39</td>\n",
       "      <td>State-gov</td>\n",
       "      <td>77516</td>\n",
       "      <td>Bachelors</td>\n",
       "      <td>13</td>\n",
       "      <td>Never-married</td>\n",
       "      <td>Adm-clerical</td>\n",
       "      <td>Not-in-family</td>\n",
       "      <td>White</td>\n",
       "      <td>Male</td>\n",
       "      <td>2174</td>\n",
       "      <td>0</td>\n",
       "      <td>40</td>\n",
       "      <td>North_America</td>\n",
       "      <td>0</td>\n",
       "      <td>0.0</td>\n",
       "      <td>2174</td>\n",
       "      <td>1</td>\n",
       "      <td>0</td>\n",
       "    </tr>\n",
       "    <tr>\n",
       "      <th>1</th>\n",
       "      <td>50</td>\n",
       "      <td>Self-emp-not-inc</td>\n",
       "      <td>83311</td>\n",
       "      <td>Bachelors</td>\n",
       "      <td>13</td>\n",
       "      <td>Married-civ-spouse</td>\n",
       "      <td>Exec-managerial</td>\n",
       "      <td>Husband</td>\n",
       "      <td>White</td>\n",
       "      <td>Male</td>\n",
       "      <td>0</td>\n",
       "      <td>0</td>\n",
       "      <td>13</td>\n",
       "      <td>North_America</td>\n",
       "      <td>0</td>\n",
       "      <td>0.0</td>\n",
       "      <td>0</td>\n",
       "      <td>0</td>\n",
       "      <td>0</td>\n",
       "    </tr>\n",
       "    <tr>\n",
       "      <th>2</th>\n",
       "      <td>38</td>\n",
       "      <td>Private</td>\n",
       "      <td>215646</td>\n",
       "      <td>HS-grad</td>\n",
       "      <td>9</td>\n",
       "      <td>Divorced</td>\n",
       "      <td>Handlers-cleaners</td>\n",
       "      <td>Not-in-family</td>\n",
       "      <td>White</td>\n",
       "      <td>Male</td>\n",
       "      <td>0</td>\n",
       "      <td>0</td>\n",
       "      <td>40</td>\n",
       "      <td>North_America</td>\n",
       "      <td>0</td>\n",
       "      <td>0.0</td>\n",
       "      <td>0</td>\n",
       "      <td>0</td>\n",
       "      <td>0</td>\n",
       "    </tr>\n",
       "    <tr>\n",
       "      <th>3</th>\n",
       "      <td>53</td>\n",
       "      <td>Private</td>\n",
       "      <td>234721</td>\n",
       "      <td>11th</td>\n",
       "      <td>7</td>\n",
       "      <td>Married-civ-spouse</td>\n",
       "      <td>Handlers-cleaners</td>\n",
       "      <td>Husband</td>\n",
       "      <td>Black</td>\n",
       "      <td>Male</td>\n",
       "      <td>0</td>\n",
       "      <td>0</td>\n",
       "      <td>40</td>\n",
       "      <td>North_America</td>\n",
       "      <td>0</td>\n",
       "      <td>0.0</td>\n",
       "      <td>0</td>\n",
       "      <td>0</td>\n",
       "      <td>0</td>\n",
       "    </tr>\n",
       "    <tr>\n",
       "      <th>4</th>\n",
       "      <td>28</td>\n",
       "      <td>Private</td>\n",
       "      <td>338409</td>\n",
       "      <td>Bachelors</td>\n",
       "      <td>13</td>\n",
       "      <td>Married-civ-spouse</td>\n",
       "      <td>Prof-specialty</td>\n",
       "      <td>Wife</td>\n",
       "      <td>Black</td>\n",
       "      <td>Female</td>\n",
       "      <td>0</td>\n",
       "      <td>0</td>\n",
       "      <td>40</td>\n",
       "      <td>Caribbean</td>\n",
       "      <td>0</td>\n",
       "      <td>0.0</td>\n",
       "      <td>0</td>\n",
       "      <td>0</td>\n",
       "      <td>0</td>\n",
       "    </tr>\n",
       "    <tr>\n",
       "      <th>...</th>\n",
       "      <td>...</td>\n",
       "      <td>...</td>\n",
       "      <td>...</td>\n",
       "      <td>...</td>\n",
       "      <td>...</td>\n",
       "      <td>...</td>\n",
       "      <td>...</td>\n",
       "      <td>...</td>\n",
       "      <td>...</td>\n",
       "      <td>...</td>\n",
       "      <td>...</td>\n",
       "      <td>...</td>\n",
       "      <td>...</td>\n",
       "      <td>...</td>\n",
       "      <td>...</td>\n",
       "      <td>...</td>\n",
       "      <td>...</td>\n",
       "      <td>...</td>\n",
       "      <td>...</td>\n",
       "    </tr>\n",
       "    <tr>\n",
       "      <th>976867</th>\n",
       "      <td>42</td>\n",
       "      <td>Never-worked</td>\n",
       "      <td>169069</td>\n",
       "      <td>Assoc-voc</td>\n",
       "      <td>2</td>\n",
       "      <td>Divorced</td>\n",
       "      <td>Sales</td>\n",
       "      <td>Husband</td>\n",
       "      <td>Asian-Pac-Islander</td>\n",
       "      <td>Male</td>\n",
       "      <td>2202</td>\n",
       "      <td>1340</td>\n",
       "      <td>37</td>\n",
       "      <td>Europe</td>\n",
       "      <td>1</td>\n",
       "      <td>0.0</td>\n",
       "      <td>862</td>\n",
       "      <td>1</td>\n",
       "      <td>0</td>\n",
       "    </tr>\n",
       "    <tr>\n",
       "      <th>976868</th>\n",
       "      <td>29</td>\n",
       "      <td>Self-emp-not-inc</td>\n",
       "      <td>192443</td>\n",
       "      <td>8th</td>\n",
       "      <td>3</td>\n",
       "      <td>Married-AF-spouse</td>\n",
       "      <td>Sales</td>\n",
       "      <td>Unmarried</td>\n",
       "      <td>Other</td>\n",
       "      <td>Male</td>\n",
       "      <td>2829</td>\n",
       "      <td>2246</td>\n",
       "      <td>32</td>\n",
       "      <td>Caribbean</td>\n",
       "      <td>1</td>\n",
       "      <td>0.0</td>\n",
       "      <td>583</td>\n",
       "      <td>1</td>\n",
       "      <td>0</td>\n",
       "    </tr>\n",
       "    <tr>\n",
       "      <th>976869</th>\n",
       "      <td>54</td>\n",
       "      <td>Federal-gov</td>\n",
       "      <td>36011</td>\n",
       "      <td>Bachelors</td>\n",
       "      <td>3</td>\n",
       "      <td>Married-spouse-absent</td>\n",
       "      <td>Armed-Forces</td>\n",
       "      <td>Unmarried</td>\n",
       "      <td>Amer-Indian-Eskimo</td>\n",
       "      <td>Female</td>\n",
       "      <td>1173</td>\n",
       "      <td>1594</td>\n",
       "      <td>97</td>\n",
       "      <td>North_America</td>\n",
       "      <td>1</td>\n",
       "      <td>0.0</td>\n",
       "      <td>-421</td>\n",
       "      <td>-1</td>\n",
       "      <td>1</td>\n",
       "    </tr>\n",
       "    <tr>\n",
       "      <th>976870</th>\n",
       "      <td>42</td>\n",
       "      <td>State-gov</td>\n",
       "      <td>197530</td>\n",
       "      <td>9th</td>\n",
       "      <td>4</td>\n",
       "      <td>Married-civ-spouse</td>\n",
       "      <td>Tech-support</td>\n",
       "      <td>Husband</td>\n",
       "      <td>White</td>\n",
       "      <td>Male</td>\n",
       "      <td>4416</td>\n",
       "      <td>1504</td>\n",
       "      <td>48</td>\n",
       "      <td>Caribbean</td>\n",
       "      <td>0</td>\n",
       "      <td>0.0</td>\n",
       "      <td>2912</td>\n",
       "      <td>1</td>\n",
       "      <td>0</td>\n",
       "    </tr>\n",
       "    <tr>\n",
       "      <th>976871</th>\n",
       "      <td>90</td>\n",
       "      <td>Local-gov</td>\n",
       "      <td>138026</td>\n",
       "      <td>HS-grad</td>\n",
       "      <td>14</td>\n",
       "      <td>Married-AF-spouse</td>\n",
       "      <td>Farming-fishing</td>\n",
       "      <td>Other-relative</td>\n",
       "      <td>Other</td>\n",
       "      <td>Female</td>\n",
       "      <td>11678</td>\n",
       "      <td>1651</td>\n",
       "      <td>56</td>\n",
       "      <td>Europe</td>\n",
       "      <td>1</td>\n",
       "      <td>0.0</td>\n",
       "      <td>10027</td>\n",
       "      <td>1</td>\n",
       "      <td>0</td>\n",
       "    </tr>\n",
       "  </tbody>\n",
       "</table>\n",
       "<p>976872 rows × 19 columns</p>\n",
       "</div>"
      ],
      "text/plain": [
       "        age         workclass  fnlwgt  education  education_num  \\\n",
       "0        39         State-gov   77516  Bachelors             13   \n",
       "1        50  Self-emp-not-inc   83311  Bachelors             13   \n",
       "2        38           Private  215646    HS-grad              9   \n",
       "3        53           Private  234721       11th              7   \n",
       "4        28           Private  338409  Bachelors             13   \n",
       "...     ...               ...     ...        ...            ...   \n",
       "976867   42      Never-worked  169069  Assoc-voc              2   \n",
       "976868   29  Self-emp-not-inc  192443        8th              3   \n",
       "976869   54       Federal-gov   36011  Bachelors              3   \n",
       "976870   42         State-gov  197530        9th              4   \n",
       "976871   90         Local-gov  138026    HS-grad             14   \n",
       "\n",
       "               marital_status         occupation    relationship  \\\n",
       "0               Never-married       Adm-clerical   Not-in-family   \n",
       "1          Married-civ-spouse    Exec-managerial         Husband   \n",
       "2                    Divorced  Handlers-cleaners   Not-in-family   \n",
       "3          Married-civ-spouse  Handlers-cleaners         Husband   \n",
       "4          Married-civ-spouse     Prof-specialty            Wife   \n",
       "...                       ...                ...             ...   \n",
       "976867               Divorced              Sales         Husband   \n",
       "976868      Married-AF-spouse              Sales       Unmarried   \n",
       "976869  Married-spouse-absent       Armed-Forces       Unmarried   \n",
       "976870     Married-civ-spouse       Tech-support         Husband   \n",
       "976871      Married-AF-spouse    Farming-fishing  Other-relative   \n",
       "\n",
       "                      race  gender  capital_gain  capital_loss  \\\n",
       "0                    White    Male          2174             0   \n",
       "1                    White    Male             0             0   \n",
       "2                    White    Male             0             0   \n",
       "3                    Black    Male             0             0   \n",
       "4                    Black  Female             0             0   \n",
       "...                    ...     ...           ...           ...   \n",
       "976867  Asian-Pac-Islander    Male          2202          1340   \n",
       "976868               Other    Male          2829          2246   \n",
       "976869  Amer-Indian-Eskimo  Female          1173          1594   \n",
       "976870               White    Male          4416          1504   \n",
       "976871               Other  Female         11678          1651   \n",
       "\n",
       "        hours_per_week native_country  salary  fnlwgt_percentage  \\\n",
       "0                   40  North_America       0                0.0   \n",
       "1                   13  North_America       0                0.0   \n",
       "2                   40  North_America       0                0.0   \n",
       "3                   40  North_America       0                0.0   \n",
       "4                   40      Caribbean       0                0.0   \n",
       "...                ...            ...     ...                ...   \n",
       "976867              37         Europe       1                0.0   \n",
       "976868              32      Caribbean       1                0.0   \n",
       "976869              97  North_America       1                0.0   \n",
       "976870              48      Caribbean       0                0.0   \n",
       "976871              56         Europe       1                0.0   \n",
       "\n",
       "        diffrence_capital_gain_loos  profit  workaholic  \n",
       "0                              2174       1           0  \n",
       "1                                 0       0           0  \n",
       "2                                 0       0           0  \n",
       "3                                 0       0           0  \n",
       "4                                 0       0           0  \n",
       "...                             ...     ...         ...  \n",
       "976867                          862       1           0  \n",
       "976868                          583       1           0  \n",
       "976869                         -421      -1           1  \n",
       "976870                         2912       1           0  \n",
       "976871                        10027       1           0  \n",
       "\n",
       "[976872 rows x 19 columns]"
      ]
     },
     "execution_count": 34,
     "metadata": {},
     "output_type": "execute_result"
    }
   ],
   "source": [
    "pandasDF = dfs.toPandas()\n",
    "pandasDF"
   ]
  },
  {
   "cell_type": "code",
   "execution_count": 35,
   "id": "343d6a47",
   "metadata": {},
   "outputs": [],
   "source": [
    "pandasDF.to_csv(\"Cleaned_Data.csv\",index=False)"
   ]
  },
  {
   "cell_type": "markdown",
   "id": "c1535a62",
   "metadata": {},
   "source": [
    "# THANK YOU :)"
   ]
  }
 ],
 "metadata": {
  "kernelspec": {
   "display_name": "Python 3 (ipykernel)",
   "language": "python",
   "name": "python3"
  },
  "language_info": {
   "codemirror_mode": {
    "name": "ipython",
    "version": 3
   },
   "file_extension": ".py",
   "mimetype": "text/x-python",
   "name": "python",
   "nbconvert_exporter": "python",
   "pygments_lexer": "ipython3",
   "version": "3.9.12"
  }
 },
 "nbformat": 4,
 "nbformat_minor": 5
}
